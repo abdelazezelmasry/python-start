{
 "cells": [
  {
   "cell_type": "code",
   "execution_count": 1,
   "metadata": {},
   "outputs": [
    {
     "name": "stdout",
     "output_type": "stream",
     "text": [
      "a Greater than b by more than 5\n",
      "out side if\n"
     ]
    }
   ],
   "source": [
    "a = 15\n",
    "b = 6\n",
    "if a <b :\n",
    "    print (\"a Less than b\")\n",
    "elif a == b :\n",
    "    print (\"a equal b\")\n",
    "elif a>b +5:\n",
    "    print (\"a Greater than b by more than 5\")\n",
    "else :\n",
    "    print (\"a Greater than b\")\n",
    "    \n",
    "print (\"out side if\")"
   ]
  },
  {
   "cell_type": "code",
   "execution_count": 2,
   "metadata": {},
   "outputs": [
    {
     "name": "stdout",
     "output_type": "stream",
     "text": [
      "a Greater than b by more than 5\n",
      "out side if\n"
     ]
    }
   ],
   "source": [
    "a = 15\n",
    "b = 6\n",
    "if a <b :\n",
    "    print (\"a Less than b\")\n",
    "\n",
    "else :\n",
    "    if a == b :\n",
    "        print (\"a equal b\")\n",
    "    \n",
    "    elif a>b +5:\n",
    "        print (\"a Greater than b by more than 5\")\n",
    "    else:\n",
    "        print (\"a Greater than b\")\n",
    "    \n",
    "print (\"out side if\")"
   ]
  },
  {
   "cell_type": "code",
   "execution_count": 3,
   "metadata": {},
   "outputs": [
    {
     "name": "stdout",
     "output_type": "stream",
     "text": [
      "over weight\n"
     ]
    }
   ],
   "source": [
    "hight_m=2\n",
    "weight_kg=105\n",
    "bmi = weight_kg/(hight_m**2)\n",
    "if bmi<=25:\n",
    "    print (\"your bmi=\")\n",
    "    print (bmi)\n",
    "else: \n",
    "    print (\"over weight\")"
   ]
  }
 ],
 "metadata": {
  "kernelspec": {
   "display_name": "Python 3",
   "language": "python",
   "name": "python3"
  },
  "language_info": {
   "codemirror_mode": {
    "name": "ipython",
    "version": 3
   },
   "file_extension": ".py",
   "mimetype": "text/x-python",
   "name": "python",
   "nbconvert_exporter": "python",
   "pygments_lexer": "ipython3",
   "version": "3.6.4"
  }
 },
 "nbformat": 4,
 "nbformat_minor": 2
}
